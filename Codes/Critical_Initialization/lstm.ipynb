{
 "cells": [
  {
   "cell_type": "code",
   "execution_count": 29,
   "metadata": {},
   "outputs": [],
   "source": [
    "import sys\n",
    "sys.path.insert(0, \"/home/tfioratti/git/stockora/\")\n",
    "from stockora.shadow_clone import parallelize"
   ]
  },
  {
   "cell_type": "code",
   "execution_count": 30,
   "metadata": {},
   "outputs": [],
   "source": [
    "import numpy as np\n",
    "import matplotlib.pyplot as plt\n",
    "\n",
    "def sigmoid(x):\n",
    "    return 1.0 / (1.0 + np.exp(-x))\n",
    "\n",
    "def dsigmoid_from_val(s):\n",
    "    return s * (1.0 - s)\n",
    "\n",
    "def dtanh_from_val(t):\n",
    "    return 1.0 - t*t\n",
    "\n",
    "def make_Us(N, g=1.0, seed_J=0):\n",
    "    rng = np.random.RandomState(seed_J)\n",
    "    scale = g / np.sqrt(N)\n",
    "    U_i = scale * rng.randn(N, N)\n",
    "    U_f = scale * rng.randn(N, N)\n",
    "    U_o = scale * rng.randn(N, N)\n",
    "    U_g = scale * rng.randn(N, N)\n",
    "    return U_i, U_f, U_o, U_g\n",
    "\n",
    "def make_biases(N, sigma_b=0.0, seed_b=1):\n",
    "    rng = np.random.RandomState(seed_b)\n",
    "    b_i = sigma_b * rng.randn(N)\n",
    "    b_f = sigma_b * rng.randn(N)\n",
    "    b_o = sigma_b * rng.randn(N)\n",
    "    b_g = sigma_b * rng.randn(N)\n",
    "    return b_i, b_f, b_o, b_g\n",
    "\n",
    "def make_h0c0(N, scale_h=0.1, scale_c=0.1, seed=2):\n",
    "    rng = np.random.RandomState(seed)\n",
    "    h0 = scale_h * rng.randn(N)\n",
    "    c0 = scale_c * rng.randn(N)\n",
    "    return h0, c0\n",
    "\n",
    "def make_v0(N, seed=3):\n",
    "    rng = np.random.RandomState(seed)\n",
    "    dh = rng.randn(N)\n",
    "    dc = rng.randn(N)\n",
    "    v  = np.concatenate([dh, dc])\n",
    "    return v / (np.linalg.norm(v) + 1e-32)\n",
    "\n",
    "def lstm_step(h, c, U_i, U_f, U_o, U_g, b_i, b_f, b_o, b_g):\n",
    "    z_i = U_i @ h + b_i\n",
    "    z_f = U_f @ h + b_f\n",
    "    z_o = U_o @ h + b_o\n",
    "    z_g = U_g @ h + b_g\n",
    "\n",
    "    i = sigmoid(z_i)\n",
    "    f = sigmoid(z_f)\n",
    "    o = sigmoid(z_o)\n",
    "    g = np.tanh(z_g)\n",
    "\n",
    "    c_new = f * c + i * g\n",
    "    h_new = o * np.tanh(c_new)\n",
    "\n",
    "    cache = {\"i\": i, \"f\": f, \"o\": o, \"g\": g, \"c_prev\": c, \"c\": c_new}\n",
    "    return h_new, c_new, cache\n",
    "\n",
    "def lstm_tangent_jvp(dh, dc, cache, U_i, U_f, U_o, U_g):\n",
    "    i = cache[\"i\"]; f = cache[\"f\"]; o = cache[\"o\"]; g = cache[\"g\"]\n",
    "    c_prev = cache[\"c_prev\"]; c = cache[\"c\"]\n",
    "\n",
    "    di = dsigmoid_from_val(i) * (U_i @ dh)\n",
    "    df = dsigmoid_from_val(f) * (U_f @ dh)\n",
    "    do = dsigmoid_from_val(o) * (U_o @ dh)\n",
    "    dg = dtanh_from_val(g)     * (U_g @ dh)\n",
    "\n",
    "    dc_new = df * c_prev + f * dc + di * g + i * dg\n",
    "    tanh_c = np.tanh(c)\n",
    "    dh_new = do * tanh_c + o * dtanh_from_val(tanh_c) * dc_new\n",
    "    return dh_new, dc_new\n",
    "\n",
    "def compute_trajectory_lstm(Us, bs, g, dt, T, warmup, h0, c0, record_stride=1):\n",
    "    \n",
    "    steps_warm = int(np.round(warmup / dt))\n",
    "    steps_sim  = int(np.round(T / dt))\n",
    "    U_i, U_f, U_o, U_g = Us\n",
    "    b_i, b_f, b_o, b_g = bs\n",
    "\n",
    "    h = h0.copy(); c = c0.copy(); t = 0.0\n",
    "    for _ in range(steps_warm):\n",
    "        h, c, _ = lstm_step(h, c, U_i, U_f, U_o, U_g, b_i, b_f, b_o, b_g)\n",
    "        t += dt\n",
    "\n",
    "    S  = steps_sim // record_stride\n",
    "    Hs = np.empty((S, h.size))\n",
    "    Cs = np.empty((S, c.size))\n",
    "    ts = np.empty(S)\n",
    "    k  = 0\n",
    "    for s in range(steps_sim):\n",
    "        h, c, _ = lstm_step(h, c, U_i, U_f, U_o, U_g, b_i, b_f, b_o, b_g)\n",
    "        t += dt\n",
    "        if (s + 1) % record_stride == 0:\n",
    "            Hs[k] = h; Cs[k] = c; ts[k] = t; k += 1\n",
    "    return Hs, Cs, ts\n",
    "\n",
    "\n",
    "def compute_lyapunov_lstm(Us, bs, g, dt, T, warmup, h0, c0, v0,\n",
    "                          reorth_every=10, eps0=1e-7):\n",
    "  \n",
    "    steps_warm = int(np.round(warmup / dt))\n",
    "    steps      = int(np.round(T / dt))\n",
    "    U_i, U_f, U_o, U_g = Us\n",
    "    b_i, b_f, b_o, b_g = bs\n",
    "\n",
    "    h = h0.copy(); c = c0.copy()\n",
    "    for _ in range(steps_warm):\n",
    "        h, c, _ = lstm_step(h, c, U_i, U_f, U_o, U_g, b_i, b_f, b_o, b_g)\n",
    "\n",
    "    N = h.size\n",
    "    dh = v0[:N].copy()\n",
    "    dc = v0[N:].copy()\n",
    "    n0 = np.sqrt(np.linalg.norm(dh)**2 + np.linalg.norm(dc)**2) + 1e-32\n",
    "    dh *= (eps0 / n0); dc *= (eps0 / n0)\n",
    "\n",
    "    accum = 0.0\n",
    "    count = 0\n",
    "\n",
    "    for s in range(steps):\n",
    "        h, c, cache = lstm_step(h, c, U_i, U_f, U_o, U_g, b_i, b_f, b_o, b_g)\n",
    "        dh, dc = lstm_tangent_jvp(dh, dc, cache, U_i, U_f, U_o, U_g)\n",
    "\n",
    "        if (s + 1) % reorth_every == 0:\n",
    "            norm_v = np.sqrt(np.linalg.norm(dh)**2 + np.linalg.norm(dc)**2) + 1e-32\n",
    "            accum += np.log(norm_v / eps0)\n",
    "            count += 1\n",
    "            dh *= (eps0 / norm_v)\n",
    "            dc *= (eps0 / norm_v)\n",
    "\n",
    "    return (accum / (count * reorth_every)) / dt if count > 0 else float('nan')\n",
    "\n",
    "def plot_traces(ts, Hs, max_traces=5, title=None):\n",
    "    idx = np.arange(min(max_traces, Hs.shape[1]))\n",
    "    plt.figure(figsize=(8,4.5))\n",
    "    for i in idx:\n",
    "        plt.plot(ts, Hs[:, i], label=f\"h[{i}]\")\n",
    "    plt.xlabel(\"time\"); plt.ylabel(\"h_t\")\n",
    "    if title: plt.title(title)\n",
    "    plt.grid(True, alpha=0.3)\n",
    "    if len(idx) <= 10: plt.legend()\n",
    "    plt.show()\n",
    "\n",
    "def plot_lyapunov(g_vals, lam_vals, title=None):\n",
    "    plt.figure(figsize=(8,4.5))\n",
    "    plt.plot(g_vals, lam_vals, marker=\"o\")\n",
    "    plt.axhline(0.0, linestyle=\"--\")\n",
    "    plt.xlabel(\"g\")\n",
    "    plt.ylabel(\"Largest Lyapunov exponent (1/time)\")\n",
    "    if title: plt.title(title)\n",
    "    plt.grid(True, alpha=0.3)\n",
    "    plt.show()\n",
    "\n"
   ]
  },
  {
   "cell_type": "code",
   "execution_count": 34,
   "metadata": {},
   "outputs": [
    {
     "data": {
      "image/png": "[encoded data removed]",
      "text/plain": [
       "<Figure size 576x324 with 1 Axes>"
      ]
     },
     "metadata": {
      "needs_background": "light"
     },
     "output_type": "display_data"
    }
   ],
   "source": [
    "  # setup\n",
    "N = 4000; dt = 1\n",
    "T = 2000.0; warmup = 250.0\n",
    "g_vals = np.linspace(1.8, 3.0, 7)\n",
    "\n",
    "Us = make_Us(N, g=1.0, seed_J=9)          \n",
    "bs = make_biases(N, sigma_b=0, seed_b=1) \n",
    "h0, c0 = make_h0c0(N, scale_h=1, scale_c=1, seed=2)\n",
    "v0 = make_v0(N, seed=3)\n",
    "\n",
    "\n",
    "lam_vals = []\n",
    "for g in g_vals:\n",
    "    Us_g = tuple(g * U for U in Us)\n",
    "    lam = compute_lyapunov_lstm(Us_g, bs, g, dt, T, warmup, h0, c0, v0,\n",
    "                                reorth_every=10, eps0=1e-7)\n",
    "    lam_vals.append(lam)\n",
    "plot_lyapunov(g_vals, lam_vals, title=\"LSTM: Lyapunov vs g\")\n",
    "\n",
    "\n"
   ]
  },
  {
   "cell_type": "code",
   "execution_count": 42,
   "metadata": {},
   "outputs": [
    {
     "data": {
      "image/png": "[encoded data removed]",
      "text/plain": [
       "<Figure size 720x432 with 1 Axes>"
      ]
     },
     "metadata": {
      "needs_background": "light"
     },
     "output_type": "display_data"
    }
   ],
   "source": [
    "  # setup\n",
    "T = 500; warmup = 100\n",
    "N_dim = [100, 500, 2000]\n",
    "dt = 1\n",
    "g_demo = 2.0\n",
    "\n",
    "plt.figure(figsize=(10, 6))\n",
    "\n",
    "for N in N_dim:\n",
    "    Us = make_Us(N, g=1.0, seed_J=6)          \n",
    "    bs = make_biases(N, sigma_b=0.0, seed_b=1) \n",
    "    h0, c0 = make_h0c0(N, scale_h=1, scale_c=1, seed=2)\n",
    "    v0 = make_v0(N, seed=3)\n",
    "    Us_demo = tuple((g_demo/1.0) * U for U in Us)\n",
    "\n",
    "    Hs, Cs, ts = compute_trajectory_lstm(\n",
    "        Us_demo, bs, g_demo, dt,\n",
    "        T=900.0, warmup=0,\n",
    "        h0=h0, c0=c0,\n",
    "        record_stride=1\n",
    "    )\n",
    "\n",
    "    plt.plot(ts, Hs[:, 0], label=f\"N={N}\")\n",
    "\n",
    "plt.xlabel(\"time\")\n",
    "plt.ylabel(\"h_0(t)\")\n",
    "plt.title(f\"LSTM trajectories for h_0(t), g={g_demo}\")\n",
    "plt.grid(True, alpha=0.3)\n",
    "plt.legend()\n",
    "plt.show()\n"
   ]
  },
  {
   "cell_type": "code",
   "execution_count": 70,
   "metadata": {},
   "outputs": [],
   "source": [
    "def _split_seeds(seed_J: int):\n",
    "    base = int(seed_J) & 0xFFFFFFFF\n",
    "    return {\n",
    "        'seed_x0': (base + 1) & 0xFFFFFFFF,\n",
    "        'seed_v0': (base + 2) & 0xFFFFFFFF,\n",
    "        'seed_b':  (base + 3) & 0xFFFFFFFF,\n",
    "    }\n",
    "\n",
    "def find_gc_job_lstm(job, *, N, dt, T, warmup,\n",
    "                     g_lo=1.7, g_hi=4.0, tol=1e-3, max_iter=20):\n",
    "    \n",
    "    sigma_b = float(job['sigma_b'])\n",
    "    seed_J  = int(job['seed_J'])\n",
    "\n",
    "    seeds = _split_seeds(seed_J)\n",
    "\n",
    "\n",
    "    Us_base = make_Us(N, g=1.0, seed_J=seed_J)\n",
    "\n",
    "\n",
    "    h0, c0 = make_h0c0(N, scale_h=1e-4, scale_c=1e-4, seed=seeds['seed_x0'])\n",
    "    v0     = make_v0(N, seed=seeds['seed_v0'])\n",
    "    bs     = make_biases(N, sigma_b=sigma_b, seed_b=seeds['seed_b'])\n",
    "\n",
    "    def Us_scaled(g):\n",
    "        return tuple(g * U for U in Us_base)\n",
    "\n",
    "    lam_lo = compute_lyapunov_lstm(Us_scaled(g_lo), bs, g_lo, dt, T, warmup, h0, c0, v0,\n",
    "                                   reorth_every=10, eps0=1e-7)\n",
    "    lam_hi = compute_lyapunov_lstm(Us_scaled(g_hi), bs, g_hi, dt, T, warmup, h0, c0, v0,\n",
    "                                   reorth_every=10, eps0=1e-7)\n",
    "\n",
    "    if lam_lo >= 0:\n",
    "        gc = g_lo\n",
    "    elif lam_hi <= 0:\n",
    "        gc = float('nan')\n",
    "    else:\n",
    "        lo, hi = g_lo, g_hi\n",
    "        for _ in range(max_iter):\n",
    "            mid = 0.5 * (lo + hi)\n",
    "            lam = compute_lyapunov_lstm(Us_scaled(mid), bs, mid, dt, T, warmup, h0, c0, v0,\n",
    "                                        reorth_every=10, eps0=1e-7)\n",
    "            if lam > 0:\n",
    "                hi = mid\n",
    "            else:\n",
    "                lo = mid\n",
    "            if hi - lo < tol:\n",
    "                break\n",
    "        gc = 0.5 * (lo + hi)\n",
    "\n",
    "    return {'seed_J': seed_J, 'sigma_b': sigma_b, 'g_c': float(gc)}\n"
   ]
  },
  {
   "cell_type": "code",
   "execution_count": 71,
   "metadata": {},
   "outputs": [],
   "source": [
    "N = 1000; dt = 1\n",
    "T = 1000.0; warmup = 100.0\n",
    "sigma_grid   = np.linspace(0, 0.5, 20)\n",
    "seed_J_list  = list(range(40))  "
   ]
  },
  {
   "cell_type": "code",
   "execution_count": 72,
   "metadata": {},
   "outputs": [
    {
     "data": {
      "text/markdown": [
       "Graph tfioratti__gc_parallel_J_sigma_lstm posted. Follow the execution using the [grid view](https://srv006545.fr.cfm.fr:56006/graph/index.html#/manage/tfioratti__gc_parallel_J_sigma_lstm) or the [graph view](https://srv006545.fr.cfm.fr:56006/graph/index.html#/display/tfioratti__gc_parallel_J_sigma_lstm)"
      ],
      "text/plain": [
       "<IPython.core.display.Markdown object>"
      ]
     },
     "metadata": {},
     "output_type": "display_data"
    }
   ],
   "source": [
    "\n",
    "jobs = [{'seed_J': int(sJ), 'sigma_b': float(s)}\n",
    "        for sJ in seed_J_list\n",
    "        for s in sigma_grid]\n",
    "\n",
    "results = parallelize(\n",
    "    exec_func=find_gc_job_lstm,   \n",
    "    jobs=jobs,\n",
    "    single_arg=True,\n",
    "    exec_kwargs=dict(\n",
    "        N=N, dt=dt, T=T, warmup=warmup,\n",
    "        g_lo=1.7, g_hi=3.0, tol=1e-3, max_iter=20\n",
    "    ),\n",
    "    mode=\"slurm\",\n",
    "    wait_for_graph_execution=False,\n",
    "    root_dir=\"/mnt/live/user/tfioratti/gc_parallel_J_sigma_lstm\",\n",
    ")\n"
   ]
  },
  {
   "cell_type": "code",
   "execution_count": 73,
   "metadata": {},
   "outputs": [],
   "source": [
    "import json\n",
    "from pathlib import Path\n",
    "results_dir = Path(\"/mnt/live/user/tfioratti/gc_parallel_J_sigma_lstm/execution_results\")\n",
    "\n",
    "data_dict = {}\n",
    "\n",
    "for result_file in results_dir.glob(\"*.json\"):  \n",
    "    with open(result_file, 'r') as file:\n",
    "        data = json.load(file)\n",
    "    tau_value = data  \n",
    "    file_key = result_file.stem\n",
    "    data_dict[file_key] = tau_value\n"
   ]
  },
  {
   "cell_type": "code",
   "execution_count": 74,
   "metadata": {},
   "outputs": [
    {
     "name": "stdout",
     "output_type": "stream",
     "text": [
      "[2.01159058 2.14201904 2.17485229 2.20584473 2.22583984 2.25075439\n",
      " 2.27823975 2.30931152 2.32251465 2.33249634 2.3440332  2.35785522\n",
      " 2.37734253 2.38681641 2.40022583 2.41328613 2.42539429 2.42758423\n",
      " 2.44283447 2.44975342]\n"
     ]
    }
   ],
   "source": [
    "seeds = sorted({v['seed_J'] for v in data_dict.values()})\n",
    "sigma_b_values = sorted({v['sigma_b'] for v in data_dict.values()})\n",
    "\n",
    "\n",
    "seed_index = {seed: i for i, seed in enumerate(seeds)}\n",
    "sigma_b_index = {sigma: i for i, sigma in enumerate(sigma_b_values)}\n",
    "\n",
    "# Crea un array per i valori di g_c\n",
    "g_c_array = np.empty((len(seeds), len(sigma_b_values)))\n",
    "g_c_array.fill(np.nan) \n",
    "\n",
    "\n",
    "for item in data_dict.values():\n",
    "    seed = item['seed_J']\n",
    "    sigma_b = item['sigma_b']\n",
    "    g_c = item['g_c']\n",
    "    i = seed_index[seed]\n",
    "    j = sigma_b_index[sigma_b]\n",
    "    g_c_array[i, j] = g_c\n",
    "\n",
    "g_c_empirical = np.mean(g_c_array, axis = 0)\n",
    "print(g_c_empirical)\n",
    "err = np.std(g_c_array, axis = 0)/np.sqrt(len(seed_J_list))"
   ]
  },
  {
   "cell_type": "code",
   "execution_count": 75,
   "metadata": {},
   "outputs": [
    {
     "data": {
      "text/plain": [
       "<ErrorbarContainer object of 3 artists>"
      ]
     },
     "execution_count": 75,
     "metadata": {},
     "output_type": "execute_result"
    },
    {
     "data": {
      "image/png": "[encoded data removed]",
      "text/plain": [
       "<Figure size 432x288 with 1 Axes>"
      ]
     },
     "metadata": {
      "needs_background": "light"
     },
     "output_type": "display_data"
    }
   ],
   "source": [
    "plt.errorbar(sigma_b_values, g_c_empirical, yerr = err, marker = 'o', label='Simulation', markersize=6)\n"
   ]
  },
  {
   "cell_type": "code",
   "execution_count": null,
   "metadata": {},
   "outputs": [],
   "source": [
    "import matplotlib.pyplot as plt\n",
    "plt.figure(figsize=(7.5,5))\n",
    "plt.errorbar(sigma_b_values, g_c_empirical, yerr = err, marker = 'o', label='Simulation', markersize=6)\n",
    "plt.xlabel(r\"Bias amplitude $\\sigma_I$ (fixed direction, per-neuron std)\")\n",
    "plt.ylabel(r\"Critical gain $g_c$\")\n",
    "plt.title(r\"$g_c$ vs $\\sigma_I$\")\n",
    "plt.grid(True, alpha=0.3)\n",
    "plt.show()"
   ]
  },
  {
   "cell_type": "code",
   "execution_count": 76,
   "metadata": {},
   "outputs": [],
   "source": [
    "np.savez('full.npz', sigma_b=sigma_b_values, g_c=g_c_empirical, error=err)"
   ]
  },
  {
   "cell_type": "code",
   "execution_count": null,
   "metadata": {},
   "outputs": [],
   "source": []
  }
 ],
 "metadata": {
  "kernelspec": {
   "display_name": "cfm_platform_current",
   "language": "python",
   "name": "cfm_platform_current"
  },
  "language_info": {
   "codemirror_mode": {
    "name": "ipython",
    "version": 3
   },
   "file_extension": ".py",
   "mimetype": "text/x-python",
   "name": "python",
   "nbconvert_exporter": "python",
   "pygments_lexer": "ipython3",
   "version": "3.8.16"
  }
 },
 "nbformat": 4,
 "nbformat_minor": 4
}
